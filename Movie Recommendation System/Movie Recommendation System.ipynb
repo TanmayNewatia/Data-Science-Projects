{
 "cells": [
  {
   "attachments": {},
   "cell_type": "markdown",
   "metadata": {},
   "source": [
    "Importing Dependencies"
   ]
  },
  {
   "cell_type": "code",
   "execution_count": 73,
   "metadata": {},
   "outputs": [],
   "source": [
    "import numpy as np\n",
    "import pandas as pd\n",
    "import difflib\n",
    "from sklearn.feature_extraction.text import TfidfVectorizer\n",
    "from sklearn.metrics.pairwise import cosine_similarity"
   ]
  },
  {
   "attachments": {},
   "cell_type": "markdown",
   "metadata": {},
   "source": [
    "Data Preprocessing"
   ]
  },
  {
   "cell_type": "code",
   "execution_count": 74,
   "metadata": {},
   "outputs": [],
   "source": [
    "#loading the dataset to pandas Data Frame\n",
    "movies_dataset = pd.read_csv('./IMDB Movies Dataset/imdb_top_1000.csv')\n",
    "movies_dataset=movies_dataset.drop(columns=['Poster_Link'])\n",
    "#print(movies_dataset.head())\n",
    "#movies_dataset.shape"
   ]
  },
  {
   "cell_type": "code",
   "execution_count": 75,
   "metadata": {},
   "outputs": [],
   "source": [
    "#feature selection\n",
    "selected_features = ['Genre','Series_Title','Overview','Director','Star1']\n",
    "#print(selected_features)\n"
   ]
  },
  {
   "cell_type": "code",
   "execution_count": 76,
   "metadata": {},
   "outputs": [],
   "source": [
    "#replacing the missing values with null string\n",
    "for features in selected_features:\n",
    "    movies_dataset[features]=movies_dataset[features].fillna(\"\")"
   ]
  },
  {
   "cell_type": "code",
   "execution_count": 77,
   "metadata": {},
   "outputs": [],
   "source": [
    "combined_parameters = movies_dataset['Series_Title']+\" \"+movies_dataset['Genre']+\" \"+movies_dataset['Overview']+\" \"+movies_dataset['Director']+\" \"+movies_dataset['Star1']\n",
    "#print(combined_parameters)"
   ]
  },
  {
   "cell_type": "code",
   "execution_count": 78,
   "metadata": {},
   "outputs": [],
   "source": [
    "#convert text to feature vectors\n",
    "vectorizer = TfidfVectorizer()\n",
    "feature_vectors = vectorizer.fit_transform(combined_parameters)\n",
    "#print(feature_vectors)"
   ]
  },
  {
   "attachments": {},
   "cell_type": "markdown",
   "metadata": {},
   "source": [
    "Similarity Comparison"
   ]
  },
  {
   "cell_type": "code",
   "execution_count": 79,
   "metadata": {},
   "outputs": [],
   "source": [
    "similarity = cosine_similarity(feature_vectors)\n",
    "#print(similarity)"
   ]
  },
  {
   "cell_type": "code",
   "execution_count": 80,
   "metadata": {},
   "outputs": [],
   "source": [
    "#getting movies name from the user\n",
    "movie_name=input(\"Enter your favourite movie name: \")\n",
    "list_of_all_titles = movies_dataset['Series_Title'].tolist()\n",
    "#print(list_of_all_titles)"
   ]
  },
  {
   "cell_type": "code",
   "execution_count": 81,
   "metadata": {},
   "outputs": [],
   "source": [
    "#finding the close match\n",
    "find_close_match = difflib.get_close_matches(movie_name,list_of_all_titles,n=1)\n",
    "close_match = find_close_match[0]\n",
    "#print(close_match)"
   ]
  },
  {
   "cell_type": "code",
   "execution_count": 82,
   "metadata": {},
   "outputs": [],
   "source": [
    "#finding the index of the movies with help of title\n",
    "index_of_the_movies = movies_dataset[movies_dataset.Series_Title == close_match]['index'].values[0]-1\n",
    "#print(index_of_the_movies)"
   ]
  },
  {
   "cell_type": "code",
   "execution_count": 83,
   "metadata": {},
   "outputs": [],
   "source": [
    "similar_movies = list(enumerate(similarity[index_of_the_movies]))\n",
    "#print(similar_movies) \n",
    "#prints the similarity score of every movie the maximum is 1"
   ]
  },
  {
   "cell_type": "code",
   "execution_count": 84,
   "metadata": {},
   "outputs": [],
   "source": [
    "#sort the movies based on their similarity confidence\n",
    "sorted_similar_movies = sorted(similar_movies,key=lambda x: x[1],reverse=True)\n",
    "#print(sorted_similar_movies)"
   ]
  },
  {
   "cell_type": "code",
   "execution_count": 85,
   "metadata": {},
   "outputs": [
    {
     "name": "stdout",
     "output_type": "stream",
     "text": [
      "Movies suggested for you:\n",
      "\n",
      "1 . Iron Man\n",
      "2 . The Avengers\n",
      "3 . Sherlock Holmes\n",
      "4 . Room\n",
      "5 . Touch of Evil\n"
     ]
    }
   ],
   "source": [
    "print(\"Movies suggested for you:\\n\")\n",
    "i=1\n",
    "for movie in sorted_similar_movies:\n",
    "    ind=movie[0]\n",
    "    title_from_index=movies_dataset[movies_dataset.index==ind]['Series_Title'].values[0]\n",
    "    if (i<=5):\n",
    "        print(i,\".\",title_from_index)\n",
    "        i+=1"
   ]
  },
  {
   "cell_type": "code",
   "execution_count": null,
   "metadata": {},
   "outputs": [],
   "source": []
  }
 ],
 "metadata": {
  "kernelspec": {
   "display_name": "Python 3",
   "language": "python",
   "name": "python3"
  },
  "language_info": {
   "codemirror_mode": {
    "name": "ipython",
    "version": 3
   },
   "file_extension": ".py",
   "mimetype": "text/x-python",
   "name": "python",
   "nbconvert_exporter": "python",
   "pygments_lexer": "ipython3",
   "version": "3.11.2"
  },
  "orig_nbformat": 4
 },
 "nbformat": 4,
 "nbformat_minor": 2
}
